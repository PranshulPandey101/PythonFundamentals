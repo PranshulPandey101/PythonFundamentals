{
  "nbformat": 4,
  "nbformat_minor": 0,
  "metadata": {
    "colab": {
      "provenance": []
    },
    "kernelspec": {
      "name": "python3",
      "display_name": "Python 3"
    },
    "language_info": {
      "name": "python"
    }
  },
  "cells": [
    {
      "cell_type": "code",
      "execution_count": 2,
      "metadata": {
        "colab": {
          "base_uri": "https://localhost:8080/"
        },
        "id": "FEvAuGLt_07x",
        "outputId": "e8a2cf5c-cf39-4e25-d462-de3909cba735"
      },
      "outputs": [
        {
          "output_type": "stream",
          "name": "stdout",
          "text": [
            "Hello, World!\n"
          ]
        }
      ],
      "source": [
        "# python program to print hello world\n",
        "print('Hello, World!')"
      ]
    },
    {
      "cell_type": "code",
      "source": [
        "# python program to input two numbers and perform baic operations\n",
        "num1 = int(input('enter a: '))\n",
        "num2 = int(input('enter b: '))\n",
        "print(f\"Addition: {num1} + {num2} = {num1 + num2}\")\n",
        "print(f\"Subtraction: {num1} - {num2} = {num1 - num2}\")\n",
        "print(f\"Multiplication: {num1} * {num2} = {num1 * num2}\")\n",
        "\n",
        "if num2 != 0:\n",
        "    print(f\"Division: {num1} / {num2} = {num1 / num2}\")\n",
        "    print(f\"Integer Division: {num1} // {num2} = {num1 // num2}\")\n",
        "    print(f\"Modulus: {num1} % {num2} = {num1 % num2}\")\n",
        "else:\n",
        "    print(\"Division: Cannot divide by zero\")\n",
        "    print(\"Integer Division: Cannot divide by zero\")\n",
        "    print(\"Modulus: Cannot divide by zero\")\n",
        "\n",
        "print(f\"Exponentiation: {num1} ** {num2} = {num1 ** num2}\")"
      ],
      "metadata": {
        "colab": {
          "base_uri": "https://localhost:8080/"
        },
        "id": "gpdfXF0fAOV-",
        "outputId": "dc1ad68c-bed7-4e78-ae44-46bf0bbf8b93"
      },
      "execution_count": 3,
      "outputs": [
        {
          "output_type": "stream",
          "name": "stdout",
          "text": [
            "enter a: 5\n",
            "enter b: 2\n",
            "Addition: 5 + 2 = 7\n",
            "Subtraction: 5 - 2 = 3\n",
            "Multiplication: 5 * 2 = 10\n",
            "Division: 5 / 2 = 2.5\n",
            "Integer Division: 5 // 2 = 2\n",
            "Modulus: 5 % 2 = 1\n",
            "Exponentiation: 5 ** 2 = 25\n"
          ]
        }
      ]
    },
    {
      "cell_type": "code",
      "source": [
        "# python program to print number is even or odd\n",
        "num = int(input('enter a number: '))\n",
        "if num % 2 == 0:\n",
        "    print(f\"{num} is even\")\n",
        "else:\n",
        "    print(f\"{num} is odd\")"
      ],
      "metadata": {
        "colab": {
          "base_uri": "https://localhost:8080/"
        },
        "id": "lAQmMaeMCPY4",
        "outputId": "c5a84f5e-0f1d-408b-dcb9-3466ddd57ef0"
      },
      "execution_count": 4,
      "outputs": [
        {
          "output_type": "stream",
          "name": "stdout",
          "text": [
            "enter a number: 27392\n",
            "27392 is even\n"
          ]
        }
      ]
    },
    {
      "cell_type": "code",
      "source": [
        "# python program to check if number is divisible by 3 or not. If divisible by 3 also check if it is also divisible by 5\n",
        "\n",
        "num = int(input('enter a number: '))\n",
        "if num % 3 == 0:\n",
        "    print(f\"{num} is divisible by 3\")\n",
        "    if num % 5 == 0:\n",
        "        print(f\"{num} is divisible by 5\")\n",
        "else:\n",
        "    print(f\"{num} is not divisible by 3\")"
      ],
      "metadata": {
        "colab": {
          "base_uri": "https://localhost:8080/"
        },
        "id": "wUATII8VCUeK",
        "outputId": "53d673b5-30c2-4576-e07e-6642502b7447"
      },
      "execution_count": 5,
      "outputs": [
        {
          "output_type": "stream",
          "name": "stdout",
          "text": [
            "enter a number: 45\n",
            "45 is divisible by 3\n",
            "45 is divisible by 5\n"
          ]
        }
      ]
    },
    {
      "cell_type": "code",
      "source": [
        "# Basic ATM program allow user to check balance, deposit money and withdraw money\n",
        "\n",
        "accounts = {\n",
        "    '1212': {'balance': 10000, 'pin': '1234'},\n",
        "    '2424': {'balance': 20000, 'pin': '5678'},\n",
        "    '1515': {'balance': 22000, 'pin': '1341'}\n",
        "}\n",
        "def check_balance(account_number, pin):\n",
        "    if account_number in accounts and accounts[account_number]['pin'] == pin:\n",
        "        return accounts[account_number]['balance']\n",
        "    else:\n",
        "        return None\n",
        "def deposit(account_number, pin, amount):\n",
        "    if account_number in accounts and accounts[account_number]['pin'] == pin:\n",
        "        accounts[account_number]['balance'] += amount\n",
        "        return True\n",
        "    else:\n",
        "        return False\n",
        "def withdraw(account_number, pin, amount):\n",
        "    if account_number in accounts and accounts[account_number]['pin'] == pin:\n",
        "        if accounts[account_number]['balance'] >= amount:\n",
        "            accounts[account_number]['balance'] -= amount\n",
        "            return True\n",
        "        else:\n",
        "            return False\n",
        "    else:\n",
        "        return False\n",
        "\n",
        "while True:\n",
        "    print(\"1. Check Balance\")\n",
        "    print(\"2. Deposit\")\n",
        "    print(\"3. Withdraw\")\n",
        "    print(\"4. Exit\")\n",
        "    choice = int(input(\"Enter your choice: \"))\n",
        "    if choice == 1:\n",
        "        account_number = input(\"Enter your account number: \")\n",
        "        pin = input(\"Enter your pin: \")\n",
        "        balance = check_balance(account_number, pin)\n",
        "        if balance is not None:\n",
        "            print(f\"Your balance is {balance}\")\n",
        "        else:\n",
        "            print(\"Invalid account number or pin\")\n",
        "    elif choice == 2:\n",
        "        account_number = input(\"Enter your account number: \")\n",
        "        pin = input(\"Enter your pin: \")\n",
        "        amount = float(input(\"Enter the amount to deposit: \"))\n",
        "        if deposit(account_number, pin, amount):\n",
        "            print(f\"Your balance is {balance}\")\n",
        "        else:\n",
        "            print(\"Invalid account number or pin\")\n",
        "    elif choice == 3:\n",
        "        account_number = input(\"Enter your account number: \")\n",
        "        pin = input(\"Enter your pin: \")\n",
        "        amount = float(input(\"Enter the amount to withdraw: \"))\n",
        "        if withdraw(account_number, pin, amount):\n",
        "            print(\"Withdrawal successful\")\n",
        "            print(f\"Your balance is {balance}\")\n",
        "        else:\n",
        "            print(\"Invalid account number or pin\")\n",
        "    elif choice == 4:\n",
        "        break\n",
        "    else:\n",
        "        print(\"Invalid choice\")"
      ],
      "metadata": {
        "colab": {
          "base_uri": "https://localhost:8080/"
        },
        "id": "b8PzjJ8hCptP",
        "outputId": "826a0922-27c2-49b9-a837-9c4614218c62"
      },
      "execution_count": 12,
      "outputs": [
        {
          "name": "stdout",
          "output_type": "stream",
          "text": [
            "1. Check Balance\n",
            "2. Deposit\n",
            "3. Withdraw\n",
            "4. Exit\n",
            "Enter your choice: 1\n",
            "Enter your account number: 1212\n",
            "Enter your pin: 1234\n",
            "Your balance is 10000\n",
            "1. Check Balance\n",
            "2. Deposit\n",
            "3. Withdraw\n",
            "4. Exit\n",
            "Enter your choice: 3\n",
            "Enter your account number: 1212\n",
            "Enter your pin: 1234\n",
            "Enter the amount to withdraw: 599\n",
            "Withdrawal successful\n",
            "Your balance is 10000\n",
            "1. Check Balance\n",
            "2. Deposit\n",
            "3. Withdraw\n",
            "4. Exit\n",
            "Enter your choice: 4\n"
          ]
        }
      ]
    },
    {
      "cell_type": "code",
      "source": [
        "# python program to print all even numbers from 1 to 100\n",
        "for i in range(1,101):\n",
        "    if i%2==0:\n",
        "        print(i,end=\", \")"
      ],
      "metadata": {
        "colab": {
          "base_uri": "https://localhost:8080/"
        },
        "id": "xKzkDnpxELzj",
        "outputId": "33da86be-44f9-4a35-89a5-7c528ad123b7"
      },
      "execution_count": 14,
      "outputs": [
        {
          "output_type": "stream",
          "name": "stdout",
          "text": [
            "2, 4, 6, 8, 10, 12, 14, 16, 18, 20, 22, 24, 26, 28, 30, 32, 34, 36, 38, 40, 42, 44, 46, 48, 50, 52, 54, 56, 58, 60, 62, 64, 66, 68, 70, 72, 74, 76, 78, 80, 82, 84, 86, 88, 90, 92, 94, 96, 98, 100, "
          ]
        }
      ]
    },
    {
      "cell_type": "code",
      "source": [
        "# python program to print table of any number given by user\n",
        "num = int(input('enter a number: '))\n",
        "for i in range(1,11):\n",
        "    print(f\"{num} x {i} = {num*i}\")"
      ],
      "metadata": {
        "colab": {
          "base_uri": "https://localhost:8080/"
        },
        "id": "frzYby_EF2b7",
        "outputId": "fc150d6a-b841-4be7-aff3-e27a23c43736"
      },
      "execution_count": 15,
      "outputs": [
        {
          "output_type": "stream",
          "name": "stdout",
          "text": [
            "enter a number: 17\n",
            "17 x 1 = 17\n",
            "17 x 2 = 34\n",
            "17 x 3 = 51\n",
            "17 x 4 = 68\n",
            "17 x 5 = 85\n",
            "17 x 6 = 102\n",
            "17 x 7 = 119\n",
            "17 x 8 = 136\n",
            "17 x 9 = 153\n",
            "17 x 10 = 170\n"
          ]
        }
      ]
    },
    {
      "cell_type": "code",
      "source": [
        "# python program to print fibonaci series\n",
        "def fib(n):\n",
        "    if n <= 0:\n",
        "        return []\n",
        "    elif n == 1:\n",
        "        return [0]\n",
        "    elif n == 2:\n",
        "        return [0, 1]\n",
        "\n",
        "    fib_series = fib(n - 1)\n",
        "    fib_series.append(fib_series[-1] + fib_series[-2])\n",
        "    return fib_series\n",
        "\n",
        "n = int(input(\"Enter the number: \"))\n",
        "result = fib(n)\n",
        "print(result)"
      ],
      "metadata": {
        "colab": {
          "base_uri": "https://localhost:8080/"
        },
        "id": "UyvvSJxQF-zX",
        "outputId": "25cd428b-c4c6-4ff3-8650-7ca0ac1dceeb"
      },
      "execution_count": 19,
      "outputs": [
        {
          "output_type": "stream",
          "name": "stdout",
          "text": [
            "Enter the number: 9\n",
            "[0, 1, 1, 2, 3, 5, 8, 13, 21]\n"
          ]
        }
      ]
    },
    {
      "cell_type": "code",
      "source": [
        "# python program to check if number is palindrome\n",
        "num = int(input('enter a number: '))\n",
        "temp = num\n",
        "rev = 0\n",
        "while num > 0:\n",
        "    dig = num % 10\n",
        "    rev = rev * 10 + dig\n",
        "    num = num // 10\n",
        "if temp == rev:\n",
        "    print('the number is palindrome')\n",
        "else:\n",
        "    print('the number is not palindrome')\n"
      ],
      "metadata": {
        "colab": {
          "base_uri": "https://localhost:8080/"
        },
        "id": "zqwql_GVGGu1",
        "outputId": "303202aa-bc89-4a1c-af2c-8359f14f0a71"
      },
      "execution_count": 21,
      "outputs": [
        {
          "output_type": "stream",
          "name": "stdout",
          "text": [
            "enter a number: 1923291\n",
            "the number is palindrome\n"
          ]
        }
      ]
    },
    {
      "cell_type": "code",
      "source": [
        "# py program to input length of list and create a list dynamically hence search form the list using linear search\n",
        "def linear_search(arr, target):\n",
        "    for i in range(len(arr)):\n",
        "        if arr[i] == target:\n",
        "            return i\n",
        "    return -1\n",
        "\n",
        "h = int(input('enter h: '))\n",
        "list1 = []\n",
        "for i in range(h):\n",
        "    item = input('enter element to add: ')\n",
        "    list1.append(item)\n",
        "\n",
        "x = input('enter element to search: ')\n",
        "res = linear_search(list1, x)\n",
        "\n",
        "if res != -1:\n",
        "    print(f'Element found at index: {res}')\n",
        "else:\n",
        "    print('Element not found.')\n"
      ],
      "metadata": {
        "colab": {
          "base_uri": "https://localhost:8080/"
        },
        "id": "9JTqdwuSG8sr",
        "outputId": "a2c0a57d-baa6-453f-bb8b-186e99d38850"
      },
      "execution_count": 23,
      "outputs": [
        {
          "output_type": "stream",
          "name": "stdout",
          "text": [
            "enter h: 5\n",
            "enter element to add: 9\n",
            "enter element to add: 3\n",
            "enter element to add: 4\n",
            "enter element to add: 1\n",
            "enter element to add: 8\n",
            "enter element to search: 8\n",
            "Element found at index: 4\n"
          ]
        }
      ]
    },
    {
      "cell_type": "code",
      "source": [
        "# py program to create a dictionary containing student data (name, roll number, course id) giving input roll number and print course id\n",
        "def new_student():\n",
        "    student_data = {}\n",
        "    n = int(input('enter number of students: '))\n",
        "    for i in range(n):\n",
        "        name = input(\"Enter the student's name: \")\n",
        "        roll_num = input(\"Enter the roll number: \")\n",
        "        course_id = input(\"Enter the course ID: \")\n",
        "        student_data[roll_num] = (name, course_id)\n",
        "    return student_data\n",
        "\n",
        "def get_course_id(student_data, roll_num):\n",
        "    if roll_num in student_data:\n",
        "        return student_data[roll_num][1]\n",
        "    else:\n",
        "        return None\n",
        "\n",
        "student_data = new_student()\n",
        "\n",
        "roll_number = input(\"Enter the roll number to find the course ID: \")\n",
        "course_id = get_course_id(student_data, roll_number)\n",
        "\n",
        "if course_id:\n",
        "    print(f\"The course ID for roll number {roll_number} is: {course_id}\")\n",
        "else:\n",
        "    print(f\"No records found for roll number {roll_number}.\")\n"
      ],
      "metadata": {
        "colab": {
          "base_uri": "https://localhost:8080/"
        },
        "id": "2pu5uXDbHKe4",
        "outputId": "b346668c-77e8-4eed-fe37-c8e4b9581a1f"
      },
      "execution_count": 24,
      "outputs": [
        {
          "output_type": "stream",
          "name": "stdout",
          "text": [
            "enter number of students: 2\n",
            "Enter the student's name: om\n",
            "Enter the roll number: 23\n",
            "Enter the course ID: 45\n",
            "Enter the student's name: cj\n",
            "Enter the roll number: 14\n",
            "Enter the course ID: 63\n",
            "Enter the roll number to find the course ID: 14\n",
            "The course ID for roll number 14 is: 63\n"
          ]
        }
      ]
    },
    {
      "cell_type": "code",
      "source": [
        "# python program of square made of * and right triangle made of *\n",
        "n = int(input('enter rows: '))\n",
        "for i in range(n):\n",
        "    for j in range(n):\n",
        "        print('*', end = ' ')\n",
        "    print()\n",
        "\n",
        "for i in range(n):\n",
        "    for j in range(0, i + 1):\n",
        "        print('*', end = '')\n",
        "    print()\n"
      ],
      "metadata": {
        "colab": {
          "base_uri": "https://localhost:8080/"
        },
        "id": "dSe10Tx5HWtW",
        "outputId": "3b972dbf-ae9d-43e5-a2f9-fcc3bea6657e"
      },
      "execution_count": 25,
      "outputs": [
        {
          "output_type": "stream",
          "name": "stdout",
          "text": [
            "enter rows: 5\n",
            "* * * * * \n",
            "* * * * * \n",
            "* * * * * \n",
            "* * * * * \n",
            "* * * * * \n",
            "*\n",
            "**\n",
            "***\n",
            "****\n",
            "*****\n"
          ]
        }
      ]
    },
    {
      "cell_type": "code",
      "source": [
        "# py program to swap two numbers using third variable second, without using single variable and in a single line\n",
        "x = int(input('enter x: '))\n",
        "y = int(input('enter y: '))\n",
        "temp = x\n",
        "x = y\n",
        "y = temp\n",
        "print(f'x: {x}, y: {y}')\n",
        "x,y = y,x\n",
        "print(f'x: {x}, y: {y}')"
      ],
      "metadata": {
        "colab": {
          "base_uri": "https://localhost:8080/"
        },
        "id": "WsevN-MPHh9H",
        "outputId": "28e76789-a32a-4da2-e542-e6f83181eca2"
      },
      "execution_count": 27,
      "outputs": [
        {
          "output_type": "stream",
          "name": "stdout",
          "text": [
            "enter x: 41\n",
            "enter y: 25\n",
            "x: 25, y: 41\n",
            "x: 41, y: 25\n"
          ]
        }
      ]
    },
    {
      "cell_type": "code",
      "source": [
        "# python function to check even or odd\n",
        "def odd_even(num):\n",
        "    if num % 2 == 0:\n",
        "        return 'even'\n",
        "    else:\n",
        "        return 'odd'\n",
        "\n",
        "# Get user input\n",
        "num = int(input('Enter num: '))\n",
        "print(odd_even(num))"
      ],
      "metadata": {
        "colab": {
          "base_uri": "https://localhost:8080/"
        },
        "id": "QaVmCgviHnP5",
        "outputId": "e52035ac-f56a-47d7-ed91-215eeb7d10fa"
      },
      "execution_count": 29,
      "outputs": [
        {
          "output_type": "stream",
          "name": "stdout",
          "text": [
            "Enter num: 36\n",
            "even\n"
          ]
        }
      ]
    },
    {
      "cell_type": "code",
      "source": [
        "# py function to print factorial without recursion\n",
        "def fact(n):\n",
        "    facto = 1\n",
        "    for i in range(1, n + 1):\n",
        "        facto = facto * i\n",
        "    return facto\n",
        "\n",
        "print(fact(5))"
      ],
      "metadata": {
        "colab": {
          "base_uri": "https://localhost:8080/"
        },
        "id": "aywxA6pAIGSD",
        "outputId": "792623cc-c0b6-4b1b-bf75-fc44738644f6"
      },
      "execution_count": 31,
      "outputs": [
        {
          "output_type": "stream",
          "name": "stdout",
          "text": [
            "120\n"
          ]
        }
      ]
    },
    {
      "cell_type": "code",
      "source": [
        "# py function accepts any number of parameter and returns sum, product, avg\n",
        "def calc(*args):\n",
        "    sum = 0\n",
        "    product = 1\n",
        "    avg = 0\n",
        "    for num in args:\n",
        "        sum += num\n",
        "    for num in args:\n",
        "        product *= num\n",
        "    for num in args:\n",
        "        avg = sum/len(args)\n",
        "    return {'sum': sum, 'product': product, 'average': avg}\n",
        "\n",
        "print(calc(1,2,3,4,5))"
      ],
      "metadata": {
        "colab": {
          "base_uri": "https://localhost:8080/"
        },
        "id": "EZayU8uRH3xZ",
        "outputId": "fc44e13a-897c-4cf5-ce81-1146e2c22e9a"
      },
      "execution_count": 32,
      "outputs": [
        {
          "output_type": "stream",
          "name": "stdout",
          "text": [
            "{'sum': 15, 'product': 120, 'average': 3.0}\n"
          ]
        }
      ]
    },
    {
      "cell_type": "code",
      "source": [
        "# py function takes list and return rnadomised list\n",
        "import random\n",
        "def suff(list1):\n",
        "    n = len(list1)\n",
        "    for i in range(n):\n",
        "        j = random.randint(0, n - 1)\n",
        "        list1[i], list1[j] = list1[j], list1[i]\n",
        "    return list1\n",
        "print(suff([1, 2, 3, 4, 5, 6, 7]))"
      ],
      "metadata": {
        "colab": {
          "base_uri": "https://localhost:8080/"
        },
        "id": "lueoM8adINxd",
        "outputId": "9a051ef1-8160-4fff-fd1c-726449805c9d"
      },
      "execution_count": 33,
      "outputs": [
        {
          "output_type": "stream",
          "name": "stdout",
          "text": [
            "[5, 6, 3, 1, 4, 2, 7]\n"
          ]
        }
      ]
    },
    {
      "cell_type": "code",
      "source": [],
      "metadata": {
        "id": "eJ1cRke6IP3c"
      },
      "execution_count": null,
      "outputs": []
    }
  ]
}